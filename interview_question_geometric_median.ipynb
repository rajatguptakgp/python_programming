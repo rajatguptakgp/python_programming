{
 "cells": [
  {
   "cell_type": "code",
   "execution_count": 1,
   "metadata": {},
   "outputs": [],
   "source": [
    "import numpy as np"
   ]
  },
  {
   "cell_type": "markdown",
   "metadata": {},
   "source": [
    "### Question\n",
    "\n",
    "**Find the friend from which the sum of distances to other friends is the least.**"
   ]
  },
  {
   "cell_type": "code",
   "execution_count": 2,
   "metadata": {},
   "outputs": [
    {
     "data": {
      "text/plain": [
       "[{'name': 'Bob', 'location': (5, 2, 10)},\n",
       " {'name': 'David', 'location': (2, 3, 5)},\n",
       " {'name': 'Mary', 'location': (19, 3, 4)},\n",
       " {'name': 'Skyler', 'location': (3, 5, 1)}]"
      ]
     },
     "execution_count": 2,
     "metadata": {},
     "output_type": "execute_result"
    }
   ],
   "source": [
    "names = ['Bob','David','Mary','Skyler']\n",
    "locations = [(5,2,10),(2,3,5),(19,3,4),(3,5,1)]\n",
    "\n",
    "friends = list(map(lambda x, y: {'name': x, 'location': y}, names, locations))\n",
    "friends"
   ]
  },
  {
   "cell_type": "markdown",
   "metadata": {},
   "source": [
    "**Solution in quadratic time complexity**"
   ]
  },
  {
   "cell_type": "code",
   "execution_count": 3,
   "metadata": {},
   "outputs": [
    {
     "data": {
      "text/plain": [
       "('David', '27.528041843981857')"
      ]
     },
     "execution_count": 3,
     "metadata": {},
     "output_type": "execute_result"
    }
   ],
   "source": [
    "def calculate_distance(loc1,loc2):\n",
    "    (x1,y1,z1)=loc1\n",
    "    (x2,y2,z2)=loc2\n",
    "    \n",
    "    return ((x1-x2)**2+(y1-y2)**2+(z1-z2)**2)**(1/2)\n",
    "\n",
    "def calculate_total_distance(friend,friends):\n",
    "    return sum(map(lambda x: calculate_distance(friend['location'], x['location']), friends))\n",
    "    \n",
    "def find_all_distance(friends):\n",
    "    return list(map(lambda x: calculate_total_distance(x,friends), friends))\n",
    "\n",
    "def find_host(friends):\n",
    "    names = list(map(lambda x: x['name'], friends))\n",
    "    name_distance = np.vstack((names, find_all_distance(friends))).transpose()\n",
    "    \n",
    "    result = name_distance[np.argsort(name_distance[:,1])][0]\n",
    "    return result[0], result[1]\n",
    "    \n",
    "result = find_host(friends)\n",
    "result"
   ]
  },
  {
   "cell_type": "markdown",
   "metadata": {},
   "source": [
    "**Consider a case when all the points are on a line. The least sum of distances (absolute/manhattan distance in this case) will be for the point that is median of numbers. This can be mathematically proved.**"
   ]
  },
  {
   "cell_type": "code",
   "execution_count": 4,
   "metadata": {},
   "outputs": [
    {
     "data": {
      "text/plain": [
       "6"
      ]
     },
     "execution_count": 4,
     "metadata": {},
     "output_type": "execute_result"
    }
   ],
   "source": [
    "data = [2,5,6,3,7,8,93,35]\n",
    "\n",
    "def calculate_abs_distance(i,j):\n",
    "    return abs(i-j)\n",
    "   \n",
    "def total_abs_distance(datapoint, data): \n",
    "    return sum(map(lambda x: calculate_abs_distance(datapoint, x), data))\n",
    "    \n",
    "distances = list(map(lambda x: total_abs_distance(x,data), data))\n",
    "\n",
    "data_dist = (np.vstack((data,distances)).transpose())\n",
    "\n",
    "result = data_dist[np.argsort(data_dist[:,1])][0]\n",
    "result[0]"
   ]
  },
  {
   "cell_type": "markdown",
   "metadata": {},
   "source": [
    "However, since our points are in N-dimensional space, we need to calculate something commonly called as **geometric median.**"
   ]
  },
  {
   "cell_type": "markdown",
   "metadata": {},
   "source": [
    "**If we were to minimize the sum of squares of distances instead of sum of distances, the optimum solution will be the centroid (can be theoretically found).**\n",
    "\n",
    "And so, an imperfect solution would be to find the closest point to the centroid since we require our point to be one of the friends' house."
   ]
  },
  {
   "cell_type": "code",
   "execution_count": 5,
   "metadata": {},
   "outputs": [
    {
     "data": {
      "text/plain": [
       "('David', '27.625')"
      ]
     },
     "execution_count": 5,
     "metadata": {},
     "output_type": "execute_result"
    }
   ],
   "source": [
    "locations = np.array(list(map(lambda x: x['location'], friends)))\n",
    "\n",
    "(p,q,r) = np.mean(locations[:,0]), np.mean(locations[:,1]), np.mean(locations[:,2])\n",
    "\n",
    "def get_distance(v1,v2):\n",
    "    return sum((v1-v2)**2)\n",
    "\n",
    "names = list(map(lambda x: x['name'], friends))\n",
    "\n",
    "dist_from_center = np.array(list(map(lambda x: get_distance(x, np.array([p,q,r])), locations)))\n",
    "dist_from_center = np.vstack((names, dist_from_center)).transpose()\n",
    "\n",
    "result = dist_from_center[np.argsort(dist_from_center)][0]\n",
    "result[0][0], result[0][1]"
   ]
  },
  {
   "cell_type": "markdown",
   "metadata": {},
   "source": [
    "### **Now, consider if we had a million points in the space. How do we go about these approaches then?**\n",
    "\n",
    "According to law of large numbers, if you conduct an experiment a number of times, the average of results should be close to expected value. In our case, we are trying to find the mean of all points, and so we can bootstrapp samples and calculate their mean. \n",
    "\n",
    "We do this for a number of times and finally compute their average - this value should be close to the actual mean of all points.  "
   ]
  },
  {
   "cell_type": "code",
   "execution_count": 6,
   "metadata": {},
   "outputs": [
    {
     "data": {
      "text/plain": [
       "array([49.984706, 49.986008, 50.021448])"
      ]
     },
     "execution_count": 6,
     "metadata": {},
     "output_type": "execute_result"
    }
   ],
   "source": [
    "LIMIT = 100\n",
    "N = 1000000 #population size\n",
    "\n",
    "X=np.random.choice(np.arange(1,LIMIT), N, replace=True)\n",
    "Y=np.random.choice(np.arange(1,LIMIT), N, replace=True)\n",
    "Z=np.random.choice(np.arange(1,LIMIT), N, replace=True)\n",
    "\n",
    "DATA=np.array([X,Y,Z]).transpose()\n",
    "np.mean(DATA,axis=0)"
   ]
  },
  {
   "cell_type": "code",
   "execution_count": 7,
   "metadata": {},
   "outputs": [
    {
     "data": {
      "text/plain": [
       "array([49.91356, 50.01233, 49.89871])"
      ]
     },
     "execution_count": 7,
     "metadata": {},
     "output_type": "execute_result"
    }
   ],
   "source": [
    "n = 1000 #sample size\n",
    "N_ITERATIONS = 100\n",
    "\n",
    "results=[]\n",
    "\n",
    "for _ in range(N_ITERATIONS):\n",
    "    x=np.random.choice(X, n, replace=True)\n",
    "    y=np.random.choice(Y, n, replace=True)\n",
    "    z=np.random.choice(Z, n, replace=True)\n",
    "\n",
    "    x_mean = np.mean(x)\n",
    "    y_mean = np.mean(y)\n",
    "    z_mean = np.mean(z)\n",
    "    results.append([x_mean,y_mean,z_mean])\n",
    "\n",
    "centroid = np.mean(np.array(results),axis=0)\n",
    "centroid"
   ]
  },
  {
   "cell_type": "markdown",
   "metadata": {},
   "source": [
    "**We see that the population parameters (mean of data points) and average of results are similar.**\n",
    "\n",
    "So, if we need to find the host which satisfies the objective among a million friends, we can use bootstrapping to **estimate** the centroid of all the friends' locations and find the friend whose location is closest to the estimated centroid."
   ]
  },
  {
   "cell_type": "code",
   "execution_count": 8,
   "metadata": {},
   "outputs": [
    {
     "name": "stdout",
     "output_type": "stream",
     "text": [
      "Host location:  [50 50 50]\n"
     ]
    }
   ],
   "source": [
    "distances = list(map(lambda x: calculate_distance(x, centroid), DATA))\n",
    "idx = distances.index(min(distances))\n",
    "\n",
    "print('Host location: ', DATA[idx])"
   ]
  },
  {
   "cell_type": "markdown",
   "metadata": {},
   "source": [
    "Now, let's try if we can find median in a similar manner - using the theory of law of large numbers.\n",
    "\n",
    "Earlier, we were interested in finding the centroid of population and so we considered centroids of samples and took average. Now, **since we are interested in finding the median of data, we consider median of samples and take average.** "
   ]
  },
  {
   "cell_type": "code",
   "execution_count": 9,
   "metadata": {},
   "outputs": [
    {
     "data": {
      "text/plain": [
       "array([50., 50., 50.])"
      ]
     },
     "execution_count": 9,
     "metadata": {},
     "output_type": "execute_result"
    }
   ],
   "source": [
    "medoid = np.median(DATA, axis=0) \n",
    "medoid"
   ]
  },
  {
   "cell_type": "code",
   "execution_count": 10,
   "metadata": {},
   "outputs": [
    {
     "data": {
      "text/plain": [
       "array([49.925, 50.13 , 50.045])"
      ]
     },
     "execution_count": 10,
     "metadata": {},
     "output_type": "execute_result"
    }
   ],
   "source": [
    "n = 1000 #sample size\n",
    "N_ITERATIONS = 100\n",
    "\n",
    "results=[]\n",
    "\n",
    "for _ in range(N_ITERATIONS):\n",
    "    x=np.random.choice(X, n, replace=True)\n",
    "    y=np.random.choice(Y, n, replace=True)\n",
    "    z=np.random.choice(Z, n, replace=True)\n",
    "\n",
    "    x_median = np.median(x)\n",
    "    y_median = np.median(y)\n",
    "    z_median = np.median(z)\n",
    "    results.append([x_median,y_median,z_median])\n",
    "\n",
    "estimated_medoid = np.mean(np.array(results),axis=0)\n",
    "estimated_medoid"
   ]
  },
  {
   "cell_type": "markdown",
   "metadata": {},
   "source": [
    "**So, we see that Law of Large Numbers can be used to solve the problem of finding geometric median.**"
   ]
  },
  {
   "cell_type": "code",
   "execution_count": null,
   "metadata": {},
   "outputs": [],
   "source": []
  }
 ],
 "metadata": {
  "kernelspec": {
   "display_name": "Python 3",
   "language": "python",
   "name": "python3"
  },
  "language_info": {
   "codemirror_mode": {
    "name": "ipython",
    "version": 3
   },
   "file_extension": ".py",
   "mimetype": "text/x-python",
   "name": "python",
   "nbconvert_exporter": "python",
   "pygments_lexer": "ipython3",
   "version": "3.8.5"
  }
 },
 "nbformat": 4,
 "nbformat_minor": 4
}
