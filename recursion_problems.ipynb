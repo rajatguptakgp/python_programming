{
 "cells": [
  {
   "cell_type": "markdown",
   "metadata": {},
   "source": [
    "### Reverse the string"
   ]
  },
  {
   "cell_type": "code",
   "execution_count": 1,
   "metadata": {},
   "outputs": [
    {
     "data": {
      "text/plain": [
       "'fedcba'"
      ]
     },
     "execution_count": 1,
     "metadata": {},
     "output_type": "execute_result"
    }
   ],
   "source": [
    "def reverse_string(s):\n",
    "    \n",
    "    if (len(s)==1):\n",
    "        return s\n",
    "    \n",
    "    else:\n",
    "        return reverse_string(s[1:]) + s[0]\n",
    "      \n",
    "s='abcdef'\n",
    "reverse_string(s)"
   ]
  },
  {
   "cell_type": "markdown",
   "metadata": {},
   "source": [
    "### Move all 'x' to end of string"
   ]
  },
  {
   "cell_type": "code",
   "execution_count": 2,
   "metadata": {},
   "outputs": [
    {
     "data": {
      "text/plain": [
       "'abcdefxxxxx'"
      ]
     },
     "execution_count": 2,
     "metadata": {},
     "output_type": "execute_result"
    }
   ],
   "source": [
    "def move_x(s):\n",
    "    \n",
    "    if (len(s)==1):\n",
    "        return s\n",
    "    \n",
    "    if (s[0]=='x'):\n",
    "        return move_x(s[1:])+'x'\n",
    "    \n",
    "    else:\n",
    "        return s[0] + move_x(s[1:])\n",
    "    \n",
    "s='axbxcdxxefx'\n",
    "move_x(s)"
   ]
  },
  {
   "cell_type": "markdown",
   "metadata": {},
   "source": [
    "### Tower of Hanoi\n",
    "\n",
    "1. **Move n - 1 disks from A to B.**\n",
    "2. **Move largest disk from A to C.**\n",
    "3. **Move the same n - 1 disks from B to C.**\n",
    "\n",
    "Number of steps required in the 2nd step - 1.\n",
    "\n",
    "Formula is given by:\n",
    "\\begin{equation}\n",
    "2^{n}-1\n",
    "\\end{equation}"
   ]
  },
  {
   "cell_type": "code",
   "execution_count": 3,
   "metadata": {},
   "outputs": [
    {
     "name": "stdout",
     "output_type": "stream",
     "text": [
      "10\n",
      "Number of disks: 1 Steps required: 1\n",
      "Number of disks: 2 Steps required: 3\n",
      "Number of disks: 3 Steps required: 7\n",
      "Number of disks: 4 Steps required: 15\n",
      "Number of disks: 5 Steps required: 31\n",
      "Number of disks: 6 Steps required: 63\n",
      "Number of disks: 7 Steps required: 127\n",
      "Number of disks: 8 Steps required: 255\n",
      "Number of disks: 9 Steps required: 511\n"
     ]
    }
   ],
   "source": [
    "def hanoi(n, from_rod, aux_rod, to_rod):\n",
    "    \n",
    "    if (n==1):\n",
    "        # move disk from source to destination\n",
    "        return 1\n",
    "    \n",
    "    return hanoi(n-1, from_rod, to_rod, aux_rod) + 1 + hanoi(n-1, aux_rod, from_rod, to_rod)\n",
    "\n",
    "N=int(input())\n",
    "\n",
    "for i in range(1,N):\n",
    "    print(f'Number of disks: {i}', 'Steps required:', hanoi(i, 'A', 'B', 'C'))"
   ]
  },
  {
   "cell_type": "markdown",
   "metadata": {},
   "source": [
    "### Replace all occurrences of pi with 3.14 in a given string"
   ]
  },
  {
   "cell_type": "code",
   "execution_count": 4,
   "metadata": {},
   "outputs": [
    {
     "data": {
      "text/plain": [
       "'3.14xxxp3.14pxxxipxi3.143.143.14i'"
      ]
     },
     "execution_count": 4,
     "metadata": {},
     "output_type": "execute_result"
    }
   ],
   "source": [
    "def replace_pi(s):\n",
    "\n",
    "    if (len(s)==0):\n",
    "        return s\n",
    "    \n",
    "    if ((s[0]=='p') and (s[1]=='i')):\n",
    "        return '3.14'+replace_pi(s[2:])\n",
    "    \n",
    "    else:\n",
    "        return s[0] + replace_pi(s[1:])\n",
    "\n",
    "s='pixxxppipxxxipxipipipii'   \n",
    "replace_pi(s)"
   ]
  },
  {
   "cell_type": "code",
   "execution_count": null,
   "metadata": {},
   "outputs": [],
   "source": []
  }
 ],
 "metadata": {
  "kernelspec": {
   "display_name": "Python 3",
   "language": "python",
   "name": "python3"
  },
  "language_info": {
   "codemirror_mode": {
    "name": "ipython",
    "version": 3
   },
   "file_extension": ".py",
   "mimetype": "text/x-python",
   "name": "python",
   "nbconvert_exporter": "python",
   "pygments_lexer": "ipython3",
   "version": "3.8.5"
  }
 },
 "nbformat": 4,
 "nbformat_minor": 4
}
